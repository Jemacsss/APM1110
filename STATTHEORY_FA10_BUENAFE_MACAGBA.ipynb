{
 "cells": [
  {
   "cell_type": "markdown",
   "id": "547c3b9a",
   "metadata": {},
   "source": [
    "# STATISTICAL ANALYSIS ON THE DIFFERENCE AMONG THE CHOLESTEROL LEVELS OF 2 BRANDS OF MARGARINE OVER 3 TIME POINTS\n",
    "\n",
    "KARL ISAIAH BUENAFE | JAN EDWARD MACAGBA"
   ]
  },
  {
   "cell_type": "code",
   "execution_count": 180,
   "id": "1a891bd7",
   "metadata": {},
   "outputs": [],
   "source": [
    "import numpy as np\n",
    "import scipy.stats as spt\n",
    "import pandas as pd\n",
    "import seaborn as sns\n",
    "import matplotlib.pyplot as plt\n",
    "import statsmodels.api as sm\n",
    "from statsmodels.formula.api import ols\n",
    "from statsmodels.stats.anova import AnovaRM"
   ]
  },
  {
   "cell_type": "code",
   "execution_count": 141,
   "id": "60ca2d8d",
   "metadata": {},
   "outputs": [
    {
     "data": {
      "text/html": [
       "<div>\n",
       "<style scoped>\n",
       "    .dataframe tbody tr th:only-of-type {\n",
       "        vertical-align: middle;\n",
       "    }\n",
       "\n",
       "    .dataframe tbody tr th {\n",
       "        vertical-align: top;\n",
       "    }\n",
       "\n",
       "    .dataframe thead th {\n",
       "        text-align: right;\n",
       "    }\n",
       "</style>\n",
       "<table border=\"1\" class=\"dataframe\">\n",
       "  <thead>\n",
       "    <tr style=\"text-align: right;\">\n",
       "      <th></th>\n",
       "      <th>ID</th>\n",
       "      <th>Before</th>\n",
       "      <th>After4weeks</th>\n",
       "      <th>After8weeks</th>\n",
       "      <th>Margarine</th>\n",
       "    </tr>\n",
       "  </thead>\n",
       "  <tbody>\n",
       "    <tr>\n",
       "      <th>0</th>\n",
       "      <td>1</td>\n",
       "      <td>6.42</td>\n",
       "      <td>5.83</td>\n",
       "      <td>5.75</td>\n",
       "      <td>B</td>\n",
       "    </tr>\n",
       "    <tr>\n",
       "      <th>1</th>\n",
       "      <td>2</td>\n",
       "      <td>6.76</td>\n",
       "      <td>6.20</td>\n",
       "      <td>6.13</td>\n",
       "      <td>B</td>\n",
       "    </tr>\n",
       "    <tr>\n",
       "      <th>2</th>\n",
       "      <td>3</td>\n",
       "      <td>6.56</td>\n",
       "      <td>5.83</td>\n",
       "      <td>5.71</td>\n",
       "      <td>B</td>\n",
       "    </tr>\n",
       "    <tr>\n",
       "      <th>3</th>\n",
       "      <td>4</td>\n",
       "      <td>4.80</td>\n",
       "      <td>4.27</td>\n",
       "      <td>4.15</td>\n",
       "      <td>A</td>\n",
       "    </tr>\n",
       "    <tr>\n",
       "      <th>4</th>\n",
       "      <td>5</td>\n",
       "      <td>8.43</td>\n",
       "      <td>7.71</td>\n",
       "      <td>7.67</td>\n",
       "      <td>B</td>\n",
       "    </tr>\n",
       "    <tr>\n",
       "      <th>5</th>\n",
       "      <td>6</td>\n",
       "      <td>7.49</td>\n",
       "      <td>7.12</td>\n",
       "      <td>7.05</td>\n",
       "      <td>A</td>\n",
       "    </tr>\n",
       "    <tr>\n",
       "      <th>6</th>\n",
       "      <td>7</td>\n",
       "      <td>8.05</td>\n",
       "      <td>7.25</td>\n",
       "      <td>7.10</td>\n",
       "      <td>B</td>\n",
       "    </tr>\n",
       "    <tr>\n",
       "      <th>7</th>\n",
       "      <td>8</td>\n",
       "      <td>5.05</td>\n",
       "      <td>4.63</td>\n",
       "      <td>4.67</td>\n",
       "      <td>A</td>\n",
       "    </tr>\n",
       "    <tr>\n",
       "      <th>8</th>\n",
       "      <td>9</td>\n",
       "      <td>5.77</td>\n",
       "      <td>5.31</td>\n",
       "      <td>5.33</td>\n",
       "      <td>B</td>\n",
       "    </tr>\n",
       "    <tr>\n",
       "      <th>9</th>\n",
       "      <td>10</td>\n",
       "      <td>3.91</td>\n",
       "      <td>3.70</td>\n",
       "      <td>3.66</td>\n",
       "      <td>A</td>\n",
       "    </tr>\n",
       "  </tbody>\n",
       "</table>\n",
       "</div>"
      ],
      "text/plain": [
       "   ID  Before  After4weeks  After8weeks Margarine\n",
       "0   1    6.42         5.83         5.75         B\n",
       "1   2    6.76         6.20         6.13         B\n",
       "2   3    6.56         5.83         5.71         B\n",
       "3   4    4.80         4.27         4.15         A\n",
       "4   5    8.43         7.71         7.67         B\n",
       "5   6    7.49         7.12         7.05         A\n",
       "6   7    8.05         7.25         7.10         B\n",
       "7   8    5.05         4.63         4.67         A\n",
       "8   9    5.77         5.31         5.33         B\n",
       "9  10    3.91         3.70         3.66         A"
      ]
     },
     "execution_count": 141,
     "metadata": {},
     "output_type": "execute_result"
    }
   ],
   "source": [
    "cholesterol= pd.read_csv('FA10.csv')\n",
    "cholesterol.head(10)"
   ]
  },
  {
   "cell_type": "markdown",
   "id": "e1594d5a",
   "metadata": {},
   "source": [
    "### ASSUMPTIONS\n",
    "\n",
    "Assumption #1: You have a continuous dependent variable.\n",
    "\n",
    "Assumption #2:  You have one between-subjects factor (i.e., independent variable) that is categorical with two or more categories.\n",
    "\n",
    "Assumption #3: You have one within-subjects factor (i.e., independent variable) that is categorical with two or more categories.\n",
    "\n",
    "Assumption #4: There should be no significant outliers in any level of the within-subjects factor.\n",
    "\n",
    "Assumption #5: Your dependent variable should be approximately normally distributed for each level of the within-subjects factor.\n",
    "\n",
    "Assumption #6: The variance of your dependent variable should be equal between the groups of the between-subjects factor.\n",
    "\n",
    "Assumption #7: There should be homogeneity of covariances.\n",
    "\n",
    "Assumption #8: The variance of the differences between groups should be equal.\n"
   ]
  },
  {
   "cell_type": "markdown",
   "id": "ede15ca2",
   "metadata": {},
   "source": [
    "### INTRODUCTION\n",
    "This report discusses the data gathered from an experiment on whether the 2 brands of margarine had significant difference on cholesterol levels over 3 time periods."
   ]
  },
  {
   "cell_type": "markdown",
   "id": "e1c66e42",
   "metadata": {},
   "source": [
    "NULL HYPOTHESIS  $(H_0)$ : There is no significant difference in the cholesterol levels between the two brands of margarine over the three time points.\n",
    "\n",
    " ALTERNATIVE HYPOTHESIS  $(H_1)$ : There's a significant difference between the 2 brands of margarine on cholesterol levels."
   ]
  },
  {
   "cell_type": "markdown",
   "id": "a8964392",
   "metadata": {},
   "source": [
    "### METHODOLOGY"
   ]
  },
  {
   "cell_type": "markdown",
   "id": "ddabc5b1",
   "metadata": {},
   "source": [
    "This analysis will first check if the dataset meets the assumptions needed in order to conduct a two-way ANOVA test. It will then be followed by checking for the normality using the Shapiro-Wilk Test. It will then be followed by the two-way ANOVA test to see if there's a significant difference between the effect on the cholesterol levels of the 2 treatment groups. An alternative treatment would be the Tukey’s Honest Significant Difference (HSD)."
   ]
  },
  {
   "cell_type": "markdown",
   "id": "a235468c",
   "metadata": {},
   "source": [
    "### RESULTS "
   ]
  },
  {
   "cell_type": "code",
   "execution_count": 8,
   "id": "326a5936",
   "metadata": {},
   "outputs": [
    {
     "data": {
      "text/html": [
       "<div>\n",
       "<style scoped>\n",
       "    .dataframe tbody tr th:only-of-type {\n",
       "        vertical-align: middle;\n",
       "    }\n",
       "\n",
       "    .dataframe tbody tr th {\n",
       "        vertical-align: top;\n",
       "    }\n",
       "\n",
       "    .dataframe thead th {\n",
       "        text-align: right;\n",
       "    }\n",
       "</style>\n",
       "<table border=\"1\" class=\"dataframe\">\n",
       "  <thead>\n",
       "    <tr style=\"text-align: right;\">\n",
       "      <th></th>\n",
       "      <th>Before</th>\n",
       "      <th>After4weeks</th>\n",
       "      <th>After8weeks</th>\n",
       "    </tr>\n",
       "  </thead>\n",
       "  <tbody>\n",
       "    <tr>\n",
       "      <th>count</th>\n",
       "      <td>18.000000</td>\n",
       "      <td>18.000000</td>\n",
       "      <td>18.000000</td>\n",
       "    </tr>\n",
       "    <tr>\n",
       "      <th>mean</th>\n",
       "      <td>6.407778</td>\n",
       "      <td>5.841667</td>\n",
       "      <td>5.778889</td>\n",
       "    </tr>\n",
       "    <tr>\n",
       "      <th>std</th>\n",
       "      <td>1.191087</td>\n",
       "      <td>1.123352</td>\n",
       "      <td>1.101912</td>\n",
       "    </tr>\n",
       "    <tr>\n",
       "      <th>min</th>\n",
       "      <td>3.910000</td>\n",
       "      <td>3.700000</td>\n",
       "      <td>3.660000</td>\n",
       "    </tr>\n",
       "    <tr>\n",
       "      <th>25%</th>\n",
       "      <td>5.740000</td>\n",
       "      <td>5.175000</td>\n",
       "      <td>5.210000</td>\n",
       "    </tr>\n",
       "    <tr>\n",
       "      <th>50%</th>\n",
       "      <td>6.500000</td>\n",
       "      <td>5.830000</td>\n",
       "      <td>5.730000</td>\n",
       "    </tr>\n",
       "    <tr>\n",
       "      <th>75%</th>\n",
       "      <td>7.217500</td>\n",
       "      <td>6.730000</td>\n",
       "      <td>6.687500</td>\n",
       "    </tr>\n",
       "    <tr>\n",
       "      <th>max</th>\n",
       "      <td>8.430000</td>\n",
       "      <td>7.710000</td>\n",
       "      <td>7.670000</td>\n",
       "    </tr>\n",
       "  </tbody>\n",
       "</table>\n",
       "</div>"
      ],
      "text/plain": [
       "          Before  After4weeks  After8weeks\n",
       "count  18.000000    18.000000    18.000000\n",
       "mean    6.407778     5.841667     5.778889\n",
       "std     1.191087     1.123352     1.101912\n",
       "min     3.910000     3.700000     3.660000\n",
       "25%     5.740000     5.175000     5.210000\n",
       "50%     6.500000     5.830000     5.730000\n",
       "75%     7.217500     6.730000     6.687500\n",
       "max     8.430000     7.710000     7.670000"
      ]
     },
     "execution_count": 8,
     "metadata": {},
     "output_type": "execute_result"
    }
   ],
   "source": [
    "summary=cholesterol.describe()\n",
    "summary=summary.drop(columns=['ID'])\n",
    "summary"
   ]
  },
  {
   "cell_type": "markdown",
   "id": "a58f11c8",
   "metadata": {},
   "source": [
    "### Margarine A:"
   ]
  },
  {
   "cell_type": "code",
   "execution_count": 15,
   "id": "2ddfc22e",
   "metadata": {},
   "outputs": [
    {
     "data": {
      "text/html": [
       "<div>\n",
       "<style scoped>\n",
       "    .dataframe tbody tr th:only-of-type {\n",
       "        vertical-align: middle;\n",
       "    }\n",
       "\n",
       "    .dataframe tbody tr th {\n",
       "        vertical-align: top;\n",
       "    }\n",
       "\n",
       "    .dataframe thead th {\n",
       "        text-align: right;\n",
       "    }\n",
       "</style>\n",
       "<table border=\"1\" class=\"dataframe\">\n",
       "  <thead>\n",
       "    <tr style=\"text-align: right;\">\n",
       "      <th></th>\n",
       "      <th>ID</th>\n",
       "      <th>Before</th>\n",
       "      <th>After4weeks</th>\n",
       "      <th>After8weeks</th>\n",
       "      <th>Margarine</th>\n",
       "    </tr>\n",
       "  </thead>\n",
       "  <tbody>\n",
       "    <tr>\n",
       "      <th>3</th>\n",
       "      <td>4</td>\n",
       "      <td>4.80</td>\n",
       "      <td>4.27</td>\n",
       "      <td>4.15</td>\n",
       "      <td>A</td>\n",
       "    </tr>\n",
       "    <tr>\n",
       "      <th>5</th>\n",
       "      <td>6</td>\n",
       "      <td>7.49</td>\n",
       "      <td>7.12</td>\n",
       "      <td>7.05</td>\n",
       "      <td>A</td>\n",
       "    </tr>\n",
       "    <tr>\n",
       "      <th>7</th>\n",
       "      <td>8</td>\n",
       "      <td>5.05</td>\n",
       "      <td>4.63</td>\n",
       "      <td>4.67</td>\n",
       "      <td>A</td>\n",
       "    </tr>\n",
       "    <tr>\n",
       "      <th>9</th>\n",
       "      <td>10</td>\n",
       "      <td>3.91</td>\n",
       "      <td>3.70</td>\n",
       "      <td>3.66</td>\n",
       "      <td>A</td>\n",
       "    </tr>\n",
       "    <tr>\n",
       "      <th>12</th>\n",
       "      <td>13</td>\n",
       "      <td>6.17</td>\n",
       "      <td>5.56</td>\n",
       "      <td>5.51</td>\n",
       "      <td>A</td>\n",
       "    </tr>\n",
       "  </tbody>\n",
       "</table>\n",
       "</div>"
      ],
      "text/plain": [
       "    ID  Before  After4weeks  After8weeks Margarine\n",
       "3    4    4.80         4.27         4.15         A\n",
       "5    6    7.49         7.12         7.05         A\n",
       "7    8    5.05         4.63         4.67         A\n",
       "9   10    3.91         3.70         3.66         A\n",
       "12  13    6.17         5.56         5.51         A"
      ]
     },
     "execution_count": 15,
     "metadata": {},
     "output_type": "execute_result"
    }
   ],
   "source": [
    "MargA=cholesterol[cholesterol['Margarine']=='A']\n",
    "MargA.head()"
   ]
  },
  {
   "cell_type": "markdown",
   "id": "6dbf5c0d",
   "metadata": {},
   "source": [
    "### Margarine B:"
   ]
  },
  {
   "cell_type": "code",
   "execution_count": 14,
   "id": "2c404a3f",
   "metadata": {},
   "outputs": [
    {
     "data": {
      "text/html": [
       "<div>\n",
       "<style scoped>\n",
       "    .dataframe tbody tr th:only-of-type {\n",
       "        vertical-align: middle;\n",
       "    }\n",
       "\n",
       "    .dataframe tbody tr th {\n",
       "        vertical-align: top;\n",
       "    }\n",
       "\n",
       "    .dataframe thead th {\n",
       "        text-align: right;\n",
       "    }\n",
       "</style>\n",
       "<table border=\"1\" class=\"dataframe\">\n",
       "  <thead>\n",
       "    <tr style=\"text-align: right;\">\n",
       "      <th></th>\n",
       "      <th>ID</th>\n",
       "      <th>Before</th>\n",
       "      <th>After4weeks</th>\n",
       "      <th>After8weeks</th>\n",
       "      <th>Margarine</th>\n",
       "    </tr>\n",
       "  </thead>\n",
       "  <tbody>\n",
       "    <tr>\n",
       "      <th>0</th>\n",
       "      <td>1</td>\n",
       "      <td>6.42</td>\n",
       "      <td>5.83</td>\n",
       "      <td>5.75</td>\n",
       "      <td>B</td>\n",
       "    </tr>\n",
       "    <tr>\n",
       "      <th>1</th>\n",
       "      <td>2</td>\n",
       "      <td>6.76</td>\n",
       "      <td>6.20</td>\n",
       "      <td>6.13</td>\n",
       "      <td>B</td>\n",
       "    </tr>\n",
       "    <tr>\n",
       "      <th>2</th>\n",
       "      <td>3</td>\n",
       "      <td>6.56</td>\n",
       "      <td>5.83</td>\n",
       "      <td>5.71</td>\n",
       "      <td>B</td>\n",
       "    </tr>\n",
       "    <tr>\n",
       "      <th>4</th>\n",
       "      <td>5</td>\n",
       "      <td>8.43</td>\n",
       "      <td>7.71</td>\n",
       "      <td>7.67</td>\n",
       "      <td>B</td>\n",
       "    </tr>\n",
       "    <tr>\n",
       "      <th>6</th>\n",
       "      <td>7</td>\n",
       "      <td>8.05</td>\n",
       "      <td>7.25</td>\n",
       "      <td>7.10</td>\n",
       "      <td>B</td>\n",
       "    </tr>\n",
       "  </tbody>\n",
       "</table>\n",
       "</div>"
      ],
      "text/plain": [
       "   ID  Before  After4weeks  After8weeks Margarine\n",
       "0   1    6.42         5.83         5.75         B\n",
       "1   2    6.76         6.20         6.13         B\n",
       "2   3    6.56         5.83         5.71         B\n",
       "4   5    8.43         7.71         7.67         B\n",
       "6   7    8.05         7.25         7.10         B"
      ]
     },
     "execution_count": 14,
     "metadata": {},
     "output_type": "execute_result"
    }
   ],
   "source": [
    "MargB=cholesterol[cholesterol['Margarine']=='B']\n",
    "MargB.head()"
   ]
  },
  {
   "cell_type": "markdown",
   "id": "cf96e4f9",
   "metadata": {},
   "source": [
    "### Assumption #1: You have a continuous dependent variable.\n",
    "Remark: The variables being measured is the cholesterol level which is continuous. Therefore, this assumption is met\n",
    "### Assumption #2: You have one between-subjects factor (i.e., independent variable) that is categorical with two or more categories.\n",
    "Remark: The group variable in the dataset are divided into 3 time periods which meets the assumption.\n",
    "### Assumption #3: You have one within-subjects factor (i.e., independent variable) that is categorical with two or more categories.\n",
    "Remark: The group variable in the dataset are divided into 2 subgroups (i.e. A and B) which meets the assumption."
   ]
  },
  {
   "cell_type": "markdown",
   "id": "1a282277",
   "metadata": {},
   "source": [
    "### Assumption #4: There should be no significant outliers in any level of the within-subjects factor."
   ]
  },
  {
   "cell_type": "markdown",
   "id": "ba85a994",
   "metadata": {},
   "source": [
    "### Margarine A"
   ]
  },
  {
   "cell_type": "code",
   "execution_count": 83,
   "id": "dddd25d1",
   "metadata": {},
   "outputs": [
    {
     "data": {
      "image/png": "[encoded data removed]",
      "text/plain": [
       "<Figure size 600x600 with 1 Axes>"
      ]
     },
     "metadata": {},
     "output_type": "display_data"
    }
   ],
   "source": [
    "data = [MargA['Before'],MargA['After4weeks'],MargA['After8weeks']] \n",
    "labels = ['Before', 'After 4 Weeks', 'After 8 Weeks']\n",
    "\n",
    "palette=[\"#276733\",'#F28BAB', '#F2CA22']\n",
    "plt.figure(figsize=(6, 6))\n",
    "sns.boxplot(data=data, \n",
    "            palette=sns.set_palette(palette))\n",
    "\n",
    "plt.title('Cholesterol levels for Margarine A')\n",
    "plt.ylabel('Cholesterol Levels')\n",
    "plt.grid(axis='y')\n",
    "\n",
    "plt.show()\n"
   ]
  },
  {
   "cell_type": "markdown",
   "id": "1b82d9d3",
   "metadata": {},
   "source": [
    "### Margarine B "
   ]
  },
  {
   "cell_type": "code",
   "execution_count": 109,
   "id": "8856ef3e",
   "metadata": {},
   "outputs": [
    {
     "data": {
      "image/png": "[encoded data removed]",
      "text/plain": [
       "<Figure size 600x600 with 1 Axes>"
      ]
     },
     "metadata": {},
     "output_type": "display_data"
    }
   ],
   "source": [
    "data = [MargB['Before'],MargB['After4weeks'],MargB['After8weeks']] \n",
    "labels = ['Before', 'After 4 Weeks', 'After 8 Weeks']\n",
    "\n",
    "palette=[\"#276733\",'#F28BAB', '#F2CA22']\n",
    "plt.figure(figsize=(6, 6))\n",
    "sns.boxplot(data=data, \n",
    "            palette=sns.set_palette(palette))\n",
    "\n",
    "plt.title('Cholesterol levels for Margarine B')\n",
    "plt.ylabel('Cholesterol Levels')\n",
    "plt.grid(axis='y')\n",
    "\n",
    "plt.show()\n"
   ]
  },
  {
   "cell_type": "markdown",
   "id": "a17bc555",
   "metadata": {},
   "source": [
    "#### Remark: There's a significant number of outliers among the first time period of Margarine B but we can eliminate this by using the Interquartile Range (IQR)."
   ]
  },
  {
   "cell_type": "markdown",
   "id": "d709d2f1",
   "metadata": {},
   "source": [
    "#### Eliminating the outliers via IQR"
   ]
  },
  {
   "cell_type": "code",
   "execution_count": 81,
   "id": "263b494f",
   "metadata": {},
   "outputs": [
    {
     "data": {
      "image/png": "[encoded data removed]",
      "text/plain": [
       "<Figure size 600x600 with 1 Axes>"
      ]
     },
     "metadata": {},
     "output_type": "display_data"
    }
   ],
   "source": [
    "B = pd.DataFrame({\n",
    "    'Before': MargB['Before'],\n",
    "    'After4weeks': MargB['After4weeks'],\n",
    "    'After8weeks': MargB['After8weeks']\n",
    "})\n",
    "\n",
    "df=B\n",
    "\n",
    "def remove_outliers(df):\n",
    "    filtered_columns = {}\n",
    "    for col in df.columns:\n",
    "        Q1 = df[col].quantile(0.25)\n",
    "        Q3 = df[col].quantile(0.75)\n",
    "        IQR = Q3 - Q1\n",
    "        lower_bound = Q1 - 1.5 * IQR\n",
    "        upper_bound = Q3 + 1.5 * IQR\n",
    "       \n",
    "        filtered_columns[col] = df[col][(df[col] >= lower_bound) & (df[col] <= upper_bound)]\n",
    "\n",
    "    return pd.DataFrame(filtered_columns)\n",
    "\n",
    "# Remove outliers from the data\n",
    "filtered_data = remove_outliers(df)\n",
    "\n",
    "# Create boxplot\n",
    "palette=[\"#276733\",'#F28BAB', '#F2CA22']\n",
    "plt.figure(figsize=(6, 6))\n",
    "sns.boxplot(data=filtered_data, \n",
    "            palette=sns.set_palette(palette))\n",
    "plt.title('Cholesterol Levels for Margarine B')\n",
    "plt.ylabel('Cholesterol Levels')\n",
    "plt.grid(axis='y')\n",
    "plt.show()"
   ]
  },
  {
   "cell_type": "markdown",
   "id": "ebef5fbf",
   "metadata": {},
   "source": [
    " "
   ]
  },
  {
   "cell_type": "markdown",
   "id": "f3fb86c9",
   "metadata": {},
   "source": [
    "### Assumption #5: Your dependent variable should be approximately normally distributed for each level of the within-subjects factor."
   ]
  },
  {
   "cell_type": "markdown",
   "id": "8462c7e1",
   "metadata": {},
   "source": [
    "#### Shapiro-Wilk Test:"
   ]
  },
  {
   "cell_type": "code",
   "execution_count": 68,
   "id": "484d97ae",
   "metadata": {},
   "outputs": [
    {
     "data": {
      "text/html": [
       "<div>\n",
       "<style scoped>\n",
       "    .dataframe tbody tr th:only-of-type {\n",
       "        vertical-align: middle;\n",
       "    }\n",
       "\n",
       "    .dataframe tbody tr th {\n",
       "        vertical-align: top;\n",
       "    }\n",
       "\n",
       "    .dataframe thead th {\n",
       "        text-align: right;\n",
       "    }\n",
       "</style>\n",
       "<table border=\"1\" class=\"dataframe\">\n",
       "  <thead>\n",
       "    <tr style=\"text-align: right;\">\n",
       "      <th></th>\n",
       "      <th>Variable</th>\n",
       "      <th>p-value</th>\n",
       "    </tr>\n",
       "  </thead>\n",
       "  <tbody>\n",
       "    <tr>\n",
       "      <th>0</th>\n",
       "      <td>Margarine A- Before</td>\n",
       "      <td>0.154353</td>\n",
       "    </tr>\n",
       "    <tr>\n",
       "      <th>1</th>\n",
       "      <td>Margarine A - After 4 weeks</td>\n",
       "      <td>0.154353</td>\n",
       "    </tr>\n",
       "    <tr>\n",
       "      <th>2</th>\n",
       "      <td>Margarine A - After 8 weeks</td>\n",
       "      <td>0.173832</td>\n",
       "    </tr>\n",
       "    <tr>\n",
       "      <th>3</th>\n",
       "      <td>Margarine B- Before</td>\n",
       "      <td>0.400042</td>\n",
       "    </tr>\n",
       "    <tr>\n",
       "      <th>4</th>\n",
       "      <td>Margarine B - After 4 weeks</td>\n",
       "      <td>0.400042</td>\n",
       "    </tr>\n",
       "    <tr>\n",
       "      <th>5</th>\n",
       "      <td>Margarine B - After 8 weeks</td>\n",
       "      <td>0.215876</td>\n",
       "    </tr>\n",
       "  </tbody>\n",
       "</table>\n",
       "</div>"
      ],
      "text/plain": [
       "                      Variable   p-value\n",
       "0          Margarine A- Before  0.154353\n",
       "1  Margarine A - After 4 weeks  0.154353\n",
       "2  Margarine A - After 8 weeks  0.173832\n",
       "3          Margarine B- Before  0.400042\n",
       "4  Margarine B - After 4 weeks  0.400042\n",
       "5  Margarine B - After 8 weeks  0.215876"
      ]
     },
     "execution_count": 68,
     "metadata": {},
     "output_type": "execute_result"
    }
   ],
   "source": [
    "a, Sw_mab4= spt.shapiro(MargA['Before'])\n",
    "b, Sw_maa4= spt.shapiro(MargA['After4weeks'])\n",
    "c, Sw_maa8= spt.shapiro(MargA['After8weeks'])\n",
    "\n",
    "\n",
    "d, Sw_mbb4= spt.shapiro(MargB['Before'])\n",
    "e, Sw_mba4= spt.shapiro(MargB['After4weeks'])\n",
    "f, Sw_mba8= spt.shapiro(MargB['After8weeks'])\n",
    "\n",
    "df=[('Margarine A- Before', Sw_maa4),('Margarine A - After 4 weeks', Sw_maa4),('Margarine A - After 8 weeks', Sw_maa8),('Margarine B- Before', Sw_mba4),('Margarine B - After 4 weeks', Sw_mba4),('Margarine B - After 8 weeks', Sw_mba8)]\n",
    "result=pd.DataFrame(df, columns=['Variable', 'p-value'])\n",
    "result.head(6)"
   ]
  },
  {
   "cell_type": "markdown",
   "id": "9ea66be4",
   "metadata": {},
   "source": [
    "Remark: based on the results of the Shapiro-Wilk test, it shows that the variable are normally distributed. Therefore, this met the assumption."
   ]
  },
  {
   "cell_type": "markdown",
   "id": "72299ee9",
   "metadata": {},
   "source": [
    "### Assumption #6: The variance of your dependent variable should be equal between the groups of the between-subjects factor.\n",
    "\n"
   ]
  },
  {
   "cell_type": "markdown",
   "id": "2b0c356c",
   "metadata": {},
   "source": [
    "To determine whether the variance between the groups of subjects is equal or not, we're going to use the Levene's Test"
   ]
  },
  {
   "cell_type": "markdown",
   "id": "01809d8b",
   "metadata": {},
   "source": [
    "### Levene's Test on A and B"
   ]
  },
  {
   "cell_type": "markdown",
   "id": "cb058634",
   "metadata": {},
   "source": [
    "For this section, we're going to compute the variance across all time points for each brand followed by the comparison of variance of Brand A and Brand B"
   ]
  },
  {
   "cell_type": "markdown",
   "id": "07badcbb",
   "metadata": {},
   "source": [
    "Variance comparison across each time points"
   ]
  },
  {
   "cell_type": "markdown",
   "id": "37c78a76",
   "metadata": {},
   "source": [
    "### Brand A (Before, Ater 4 weeks, and After 8 weeks)"
   ]
  },
  {
   "cell_type": "code",
   "execution_count": 94,
   "id": "e7083529",
   "metadata": {},
   "outputs": [],
   "source": [
    "AB=MargA['Before']\n",
    "A4=MargA['After4weeks']\n",
    "A8=MargA['After8weeks']\n",
    "\n",
    "\n",
    "stat, Amed_pvalue=spt.levene(AB, A4,A8, center='median')\n",
    "stat, Amean_pvalue=spt.levene(AB, A4,A8, center='mean')"
   ]
  },
  {
   "cell_type": "code",
   "execution_count": 98,
   "id": "3e849cea",
   "metadata": {},
   "outputs": [
    {
     "data": {
      "text/html": [
       "<div>\n",
       "<style scoped>\n",
       "    .dataframe tbody tr th:only-of-type {\n",
       "        vertical-align: middle;\n",
       "    }\n",
       "\n",
       "    .dataframe tbody tr th {\n",
       "        vertical-align: top;\n",
       "    }\n",
       "\n",
       "    .dataframe thead th {\n",
       "        text-align: right;\n",
       "    }\n",
       "</style>\n",
       "<table border=\"1\" class=\"dataframe\">\n",
       "  <thead>\n",
       "    <tr style=\"text-align: right;\">\n",
       "      <th></th>\n",
       "      <th>Levenes test</th>\n",
       "      <th>p-value</th>\n",
       "    </tr>\n",
       "  </thead>\n",
       "  <tbody>\n",
       "    <tr>\n",
       "      <th>0</th>\n",
       "      <td>Median centered</td>\n",
       "      <td>0.989676</td>\n",
       "    </tr>\n",
       "    <tr>\n",
       "      <th>1</th>\n",
       "      <td>Mean centered</td>\n",
       "      <td>0.985621</td>\n",
       "    </tr>\n",
       "  </tbody>\n",
       "</table>\n",
       "</div>"
      ],
      "text/plain": [
       "      Levenes test   p-value\n",
       "0  Median centered  0.989676\n",
       "1    Mean centered  0.985621"
      ]
     },
     "execution_count": 98,
     "metadata": {},
     "output_type": "execute_result"
    }
   ],
   "source": [
    "df=[('Median centered', Amed_pvalue), ('Mean centered', Amean_pvalue)]\n",
    "ALev=pd.DataFrame(df, columns=['Levenes test', 'p-value'])\n",
    "ALev"
   ]
  },
  {
   "cell_type": "markdown",
   "id": "96c76637",
   "metadata": {},
   "source": [
    "Remark: This table shows no significant difference among the cholesterol level across all time points for Brand A."
   ]
  },
  {
   "cell_type": "markdown",
   "id": "fda284aa",
   "metadata": {},
   "source": [
    "### Brand B (Before, Ater 4 weeks, and After 8 weeks)"
   ]
  },
  {
   "cell_type": "code",
   "execution_count": 99,
   "id": "7ea2a977",
   "metadata": {},
   "outputs": [],
   "source": [
    "BB=MargB['Before']\n",
    "B4=MargB['After4weeks']\n",
    "B8=MargB['After8weeks']\n",
    "\n",
    "\n",
    "stat, Bmed_pvalue=spt.levene(BB, B4,B8, center='median')\n",
    "stat, Bmean_pvalue=spt.levene(BB, B4,B8, center='mean')"
   ]
  },
  {
   "cell_type": "code",
   "execution_count": 101,
   "id": "7c7c42c1",
   "metadata": {},
   "outputs": [
    {
     "data": {
      "text/html": [
       "<div>\n",
       "<style scoped>\n",
       "    .dataframe tbody tr th:only-of-type {\n",
       "        vertical-align: middle;\n",
       "    }\n",
       "\n",
       "    .dataframe tbody tr th {\n",
       "        vertical-align: top;\n",
       "    }\n",
       "\n",
       "    .dataframe thead th {\n",
       "        text-align: right;\n",
       "    }\n",
       "</style>\n",
       "<table border=\"1\" class=\"dataframe\">\n",
       "  <thead>\n",
       "    <tr style=\"text-align: right;\">\n",
       "      <th></th>\n",
       "      <th>Levenes test</th>\n",
       "      <th>p-value</th>\n",
       "    </tr>\n",
       "  </thead>\n",
       "  <tbody>\n",
       "    <tr>\n",
       "      <th>0</th>\n",
       "      <td>Median centered</td>\n",
       "      <td>0.980808</td>\n",
       "    </tr>\n",
       "    <tr>\n",
       "      <th>1</th>\n",
       "      <td>Mean centered</td>\n",
       "      <td>0.993928</td>\n",
       "    </tr>\n",
       "  </tbody>\n",
       "</table>\n",
       "</div>"
      ],
      "text/plain": [
       "      Levenes test   p-value\n",
       "0  Median centered  0.980808\n",
       "1    Mean centered  0.993928"
      ]
     },
     "execution_count": 101,
     "metadata": {},
     "output_type": "execute_result"
    }
   ],
   "source": [
    "df=[('Median centered', Bmed_pvalue), ('Mean centered', Bmean_pvalue)]\n",
    "BLev=pd.DataFrame(df, columns=['Levenes test', 'p-value'])\n",
    "BLev"
   ]
  },
  {
   "cell_type": "markdown",
   "id": "c58eaeba",
   "metadata": {},
   "source": [
    "Remark: This table shows no significant difference among the cholesterol level across all time points for Brand B."
   ]
  },
  {
   "cell_type": "markdown",
   "id": "1c85001e",
   "metadata": {},
   "source": [
    "#### With this we can say that the variance of across all time points of both Brand A and Brand B are equal. Therefore, it meets the assumption."
   ]
  },
  {
   "cell_type": "markdown",
   "id": "4c7ab274",
   "metadata": {},
   "source": [
    "### Assumption #7: There should be homogeneity of covariances."
   ]
  },
  {
   "cell_type": "code",
   "execution_count": 117,
   "id": "29af48d8",
   "metadata": {},
   "outputs": [
    {
     "data": {
      "text/html": [
       "<div>\n",
       "<style scoped>\n",
       "    .dataframe tbody tr th:only-of-type {\n",
       "        vertical-align: middle;\n",
       "    }\n",
       "\n",
       "    .dataframe tbody tr th {\n",
       "        vertical-align: top;\n",
       "    }\n",
       "\n",
       "    .dataframe thead th {\n",
       "        text-align: right;\n",
       "    }\n",
       "</style>\n",
       "<table border=\"1\" class=\"dataframe\">\n",
       "  <thead>\n",
       "    <tr style=\"text-align: right;\">\n",
       "      <th></th>\n",
       "      <th>Before</th>\n",
       "      <th>After 4 weeks</th>\n",
       "      <th>After 8 weeks</th>\n",
       "    </tr>\n",
       "  </thead>\n",
       "  <tbody>\n",
       "    <tr>\n",
       "      <th>Before</th>\n",
       "      <td>2.039543</td>\n",
       "      <td>1.973093</td>\n",
       "      <td>1.949379</td>\n",
       "    </tr>\n",
       "    <tr>\n",
       "      <th>After 4 weeks</th>\n",
       "      <td>1.973093</td>\n",
       "      <td>1.925441</td>\n",
       "      <td>1.904541</td>\n",
       "    </tr>\n",
       "    <tr>\n",
       "      <th>After 8 weeks</th>\n",
       "      <td>1.949379</td>\n",
       "      <td>1.904541</td>\n",
       "      <td>1.887070</td>\n",
       "    </tr>\n",
       "  </tbody>\n",
       "</table>\n",
       "</div>"
      ],
      "text/plain": [
       "                 Before  After 4 weeks  After 8 weeks\n",
       "Before         2.039543       1.973093       1.949379\n",
       "After 4 weeks  1.973093       1.925441       1.904541\n",
       "After 8 weeks  1.949379       1.904541       1.887070"
      ]
     },
     "execution_count": 117,
     "metadata": {},
     "output_type": "execute_result"
    }
   ],
   "source": [
    "A={'Before':AB, 'After 4 weeks': A4, 'After 8 weeks':A8}\n",
    "\n",
    "A_df=pd.DataFrame(A)\n",
    "\n",
    "A_cov= A_df[['Before', 'After 4 weeks', 'After 8 weeks']].cov()\n",
    "A_cov"
   ]
  },
  {
   "cell_type": "markdown",
   "id": "81a4b270",
   "metadata": {},
   "source": [
    "Remark: This matrix shows that the homogeneity of covariances is violated. Therefore, we will resort to an alternative test"
   ]
  },
  {
   "cell_type": "markdown",
   "id": "c8c65936",
   "metadata": {},
   "source": [
    "### Friedman Test"
   ]
  },
  {
   "cell_type": "code",
   "execution_count": 128,
   "id": "cbdf46f9",
   "metadata": {},
   "outputs": [
    {
     "data": {
      "text/html": [
       "<div>\n",
       "<style scoped>\n",
       "    .dataframe tbody tr th:only-of-type {\n",
       "        vertical-align: middle;\n",
       "    }\n",
       "\n",
       "    .dataframe tbody tr th {\n",
       "        vertical-align: top;\n",
       "    }\n",
       "\n",
       "    .dataframe thead th {\n",
       "        text-align: right;\n",
       "    }\n",
       "</style>\n",
       "<table border=\"1\" class=\"dataframe\">\n",
       "  <thead>\n",
       "    <tr style=\"text-align: right;\">\n",
       "      <th></th>\n",
       "      <th>Friedman Stat score</th>\n",
       "      <th>p-value</th>\n",
       "    </tr>\n",
       "  </thead>\n",
       "  <tbody>\n",
       "    <tr>\n",
       "      <th>0</th>\n",
       "      <td>14.25</td>\n",
       "      <td>0.000805</td>\n",
       "    </tr>\n",
       "  </tbody>\n",
       "</table>\n",
       "</div>"
      ],
      "text/plain": [
       "   Friedman Stat score   p-value\n",
       "0                14.25  0.000805"
      ]
     },
     "execution_count": 128,
     "metadata": {},
     "output_type": "execute_result"
    }
   ],
   "source": [
    "stat, ft_pvalue= spt.friedmanchisquare(A_df['Before'], A_df['After 4 weeks'], A_df['After 8 weeks'])\n",
    "result={'Friedman Stat score':[stat],'p-value':[ft_pvalue]}\n",
    "ft=pd.DataFrame(result)\n",
    "ft.head()"
   ]
  },
  {
   "cell_type": "markdown",
   "id": "b0d17bed",
   "metadata": {},
   "source": [
    "Remark: Using an the Friedman test, we got a p-value that would show the homogeneity of covariances. From here, the assumption was met."
   ]
  },
  {
   "cell_type": "markdown",
   "id": "3648e427",
   "metadata": {},
   "source": [
    "### Assumption #8: The variance of the differences between groups should be equal."
   ]
  },
  {
   "cell_type": "code",
   "execution_count": 177,
   "id": "66026eb0",
   "metadata": {},
   "outputs": [
    {
     "data": {
      "text/plain": [
       "0.002079404214255124"
      ]
     },
     "execution_count": 177,
     "metadata": {},
     "output_type": "execute_result"
    }
   ],
   "source": [
    "group_A=fdf[fdf['Brand'] == 'A']['Cholesterol']\n",
    "group_B=fdf[fdf['Brand'] == 'B']['Cholesterol']\n",
    "\n",
    "stat, pvalue=spt.levene(group_A,group_B)\n",
    "pvalue"
   ]
  },
  {
   "cell_type": "markdown",
   "id": "06c988a9",
   "metadata": {},
   "source": [
    "Remark: Since all assumptions are met, we can now run two-way ANOVA"
   ]
  },
  {
   "cell_type": "markdown",
   "id": "240254b4",
   "metadata": {},
   "source": [
    "### Two-way ANOVA:"
   ]
  },
  {
   "cell_type": "code",
   "execution_count": 182,
   "id": "fb8e26b4",
   "metadata": {},
   "outputs": [
    {
     "name": "stdout",
     "output_type": "stream",
     "text": [
      "                     sum_sq    df         F    PR(>F)\n",
      "C(Brand)           6.979363   1.0  5.663479  0.021343\n",
      "C(Time)            4.319544   2.0  1.752570  0.184237\n",
      "C(Brand):C(Time)   0.079991   2.0  0.032455  0.968088\n",
      "Residual          59.152585  48.0       NaN       NaN\n"
     ]
    }
   ],
   "source": [
    "df_transp = pd.DataFrame({\n",
    "    'Subject': Cholesterol['ID'],\n",
    "    'Brand': Cholesterol['Margarine'],\n",
    "    'Before': Cholesterol['Before'],\n",
    "    'After 4 Weeks': Cholesterol['After4weeks'],\n",
    "    'After 8 Weeks': Cholesterol['After8weeks']\n",
    "})\n",
    "\n",
    "\n",
    "fdf = df_transp.melt(id_vars=['Subject', 'Brand'], \n",
    "                     value_vars=['Before', 'After 4 Weeks', 'After 8 Weeks'],\n",
    "                     var_name='Time', \n",
    "                     value_name='Cholesterol')\n",
    "\n",
    "model = ols('Cholesterol ~ C(Brand) + C(Time) + C(Brand):C(Time)', data=fdf).fit()\n",
    "anova_table = sm.stats.anova_lm(model, typ=2) \n",
    "print(anova_table)"
   ]
  },
  {
   "cell_type": "markdown",
   "id": "da850d9f",
   "metadata": {},
   "source": [
    "## DISCUSSION"
   ]
  },
  {
   "cell_type": "markdown",
   "id": "bc5cc2e4",
   "metadata": {},
   "source": [
    "Based on the results of the two-way ANOVA, we interpreted the following:\n",
    "1. The brand of the margarine made a significant difference on the cholesterol levels\n",
    "2. Time did not make a significant difference on the cholesterol levels\n",
    "3. The interaction between Brand and Time did not make a significant difference on the cholesterol levels."
   ]
  },
  {
   "cell_type": "markdown",
   "id": "52183729",
   "metadata": {},
   "source": [
    "## CONCLUSION"
   ]
  },
  {
   "cell_type": "markdown",
   "id": "60e8a06a",
   "metadata": {},
   "source": [
    "After conducting this statistical analysis, the results returned with a suggestion, which is that there is a significant difference on the cholesterol levels with respect to the brand of the margarine. Therefore, we must REJECT THE NULL HYPOTHESIS $(H_0)$."
   ]
  },
  {
   "cell_type": "markdown",
   "id": "f35dc7a2",
   "metadata": {},
   "source": [
    " "
   ]
  }
 ],
 "metadata": {
  "kernelspec": {
   "display_name": "Python 3 (ipykernel)",
   "language": "python",
   "name": "python3"
  },
  "language_info": {
   "codemirror_mode": {
    "name": "ipython",
    "version": 3
   },
   "file_extension": ".py",
   "mimetype": "text/x-python",
   "name": "python",
   "nbconvert_exporter": "python",
   "pygments_lexer": "ipython3",
   "version": "3.11.5"
  }
 },
 "nbformat": 4,
 "nbformat_minor": 5
}
